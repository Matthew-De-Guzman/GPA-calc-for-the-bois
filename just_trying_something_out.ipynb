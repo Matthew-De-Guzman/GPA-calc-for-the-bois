{
  "nbformat": 4,
  "nbformat_minor": 0,
  "metadata": {
    "colab": {
      "name": "just trying something out",
      "provenance": [],
      "authorship_tag": "ABX9TyNobFGWKFcE7N6OQjyTayXw",
      "include_colab_link": true
    },
    "kernelspec": {
      "name": "python3",
      "display_name": "Python 3"
    }
  },
  "cells": [
    {
      "cell_type": "markdown",
      "metadata": {
        "id": "view-in-github",
        "colab_type": "text"
      },
      "source": [
        "<a href=\"https://colab.research.google.com/github/Matthew-De-Guzman/GPA-calc-for-the-bois/blob/main/just_trying_something_out.ipynb\" target=\"_parent\"><img src=\"https://colab.research.google.com/assets/colab-badge.svg\" alt=\"Open In Colab\"/></a>"
      ]
    },
    {
      "cell_type": "code",
      "metadata": {
        "id": "7BaV50XWvRFv"
      },
      "source": [
        "print \"hello wolrd\";\r\n"
      ],
      "execution_count": null,
      "outputs": []
    }
  ]
}